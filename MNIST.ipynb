{
 "cells": [
  {
   "cell_type": "code",
   "execution_count": 55,
   "metadata": {},
   "outputs": [],
   "source": [
    "import numpy as np\n",
    "import matplotlib.pyplot as plt\n",
    "from keras.datasets import mnist\n",
    "from keras.models import Sequential\n",
    "from keras.layers import Dense, Dropout\n",
    "from keras.optimizers import RMSprop"
   ]
  },
  {
   "cell_type": "code",
   "execution_count": 56,
   "metadata": {
    "scrolled": true
   },
   "outputs": [
    {
     "name": "stdout",
     "output_type": "stream",
     "text": [
      "(60000, 10)\n"
     ]
    }
   ],
   "source": [
    "(x_train, y_train), (x_test,y_test) = mnist.load_data()\n",
    "x_train = (np.reshape(x_train,[60000,784]))/255\n",
    "x_test = np.reshape(x_test,[10000,784])/255\n",
    "y_train = np.eye(10)[y_train]\n",
    "y_test = np.eye(10)[y_test]"
   ]
  },
  {
   "cell_type": "code",
   "execution_count": 60,
   "metadata": {},
   "outputs": [],
   "source": [
    "def classification():\n",
    "    model = Sequential()\n",
    "    model.add(Dense(784, input_dim=784, activation='relu'))\n",
    "    model.add(Dense(100, activation='relu'))\n",
    "    model.add(Dense(10, activation='softmax'))\n",
    "    model.compile(loss='categorical_crossentropy', optimizer='adam', metrics=['accuracy'])\n",
    "    return model"
   ]
  },
  {
   "cell_type": "code",
   "execution_count": 61,
   "metadata": {},
   "outputs": [
    {
     "name": "stdout",
     "output_type": "stream",
     "text": [
      "_________________________________________________________________\n",
      "Layer (type)                 Output Shape              Param #   \n",
      "=================================================================\n",
      "dense_7 (Dense)              (None, 784)               615440    \n",
      "_________________________________________________________________\n",
      "dense_8 (Dense)              (None, 100)               78500     \n",
      "_________________________________________________________________\n",
      "dense_9 (Dense)              (None, 10)                1010      \n",
      "=================================================================\n",
      "Total params: 694,950\n",
      "Trainable params: 694,950\n",
      "Non-trainable params: 0\n",
      "_________________________________________________________________\n"
     ]
    }
   ],
   "source": [
    "test = classification()\n",
    "test.summary()"
   ]
  },
  {
   "cell_type": "code",
   "execution_count": 62,
   "metadata": {},
   "outputs": [
    {
     "name": "stdout",
     "output_type": "stream",
     "text": [
      "Epoch 1/20\n",
      "60000/60000 [==============================] - 15s 243us/step - loss: 0.1848 - acc: 0.9439\n",
      "Epoch 2/20\n",
      "60000/60000 [==============================] - 14s 240us/step - loss: 0.0782 - acc: 0.9750\n",
      "Epoch 3/20\n",
      "60000/60000 [==============================] - 14s 239us/step - loss: 0.0535 - acc: 0.9832\n",
      "Epoch 4/20\n",
      "60000/60000 [==============================] - 14s 238us/step - loss: 0.0416 - acc: 0.9867\n",
      "Epoch 5/20\n",
      "60000/60000 [==============================] - 14s 238us/step - loss: 0.0306 - acc: 0.9907\n",
      "Epoch 6/20\n",
      "60000/60000 [==============================] - 14s 239us/step - loss: 0.0267 - acc: 0.9911\n",
      "Epoch 7/20\n",
      "60000/60000 [==============================] - 14s 240us/step - loss: 0.0231 - acc: 0.9923\n",
      "Epoch 8/20\n",
      "60000/60000 [==============================] - 14s 241us/step - loss: 0.0189 - acc: 0.9937\n",
      "Epoch 9/20\n",
      "60000/60000 [==============================] - 14s 240us/step - loss: 0.0168 - acc: 0.9944\n",
      "Epoch 10/20\n",
      "60000/60000 [==============================] - 15s 242us/step - loss: 0.0170 - acc: 0.9947\n",
      "Epoch 11/20\n",
      "60000/60000 [==============================] - 15s 244us/step - loss: 0.0134 - acc: 0.9959\n",
      "Epoch 12/20\n",
      "60000/60000 [==============================] - 14s 241us/step - loss: 0.0145 - acc: 0.9958\n",
      "Epoch 13/20\n",
      "60000/60000 [==============================] - 14s 240us/step - loss: 0.0114 - acc: 0.9962\n",
      "Epoch 14/20\n",
      "60000/60000 [==============================] - 14s 239us/step - loss: 0.0133 - acc: 0.9960\n",
      "Epoch 15/20\n",
      "60000/60000 [==============================] - 15s 242us/step - loss: 0.0126 - acc: 0.9965\n",
      "Epoch 16/20\n",
      "60000/60000 [==============================] - 14s 240us/step - loss: 0.0125 - acc: 0.9965\n",
      "Epoch 17/20\n",
      "60000/60000 [==============================] - 14s 240us/step - loss: 0.0091 - acc: 0.9971\n",
      "Epoch 18/20\n",
      "60000/60000 [==============================] - 14s 241us/step - loss: 0.0125 - acc: 0.9966\n",
      "Epoch 19/20\n",
      "60000/60000 [==============================] - 14s 241us/step - loss: 0.0095 - acc: 0.9974\n",
      "Epoch 20/20\n",
      "60000/60000 [==============================] - 14s 239us/step - loss: 0.0111 - acc: 0.9968\n"
     ]
    },
    {
     "data": {
      "text/plain": [
       "<keras.callbacks.History at 0x7fb1c09fb128>"
      ]
     },
     "execution_count": 62,
     "metadata": {},
     "output_type": "execute_result"
    }
   ],
   "source": [
    "test.fit(x_train, y_train, epochs=20)"
   ]
  },
  {
   "cell_type": "code",
   "execution_count": 63,
   "metadata": {},
   "outputs": [],
   "source": [
    "y_output = test.predict(x_test)"
   ]
  },
  {
   "cell_type": "code",
   "execution_count": 64,
   "metadata": {},
   "outputs": [
    {
     "data": {
      "text/plain": [
       "(10000, 10)"
      ]
     },
     "execution_count": 64,
     "metadata": {},
     "output_type": "execute_result"
    }
   ],
   "source": [
    "a = (y_output == y_test)\n",
    "a.shape"
   ]
  },
  {
   "cell_type": "code",
   "execution_count": 65,
   "metadata": {},
   "outputs": [
    {
     "name": "stdout",
     "output_type": "stream",
     "text": [
      "10000/10000 [==============================] - 0s 46us/step\n"
     ]
    }
   ],
   "source": [
    "score = test.evaluate(x_test,y_test, verbose=1)"
   ]
  },
  {
   "cell_type": "code",
   "execution_count": 66,
   "metadata": {},
   "outputs": [
    {
     "name": "stdout",
     "output_type": "stream",
     "text": [
      "[0.11373131674154083, 0.981]\n"
     ]
    }
   ],
   "source": [
    "print(score)"
   ]
  },
  {
   "cell_type": "code",
   "execution_count": null,
   "metadata": {},
   "outputs": [],
   "source": []
  }
 ],
 "metadata": {
  "kernelspec": {
   "display_name": "Python 3",
   "language": "python",
   "name": "python3"
  },
  "language_info": {
   "codemirror_mode": {
    "name": "ipython",
    "version": 3
   },
   "file_extension": ".py",
   "mimetype": "text/x-python",
   "name": "python",
   "nbconvert_exporter": "python",
   "pygments_lexer": "ipython3",
   "version": "3.5.2"
  }
 },
 "nbformat": 4,
 "nbformat_minor": 2
}
