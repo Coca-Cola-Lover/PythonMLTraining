{
 "cells": [
  {
   "cell_type": "code",
   "execution_count": 1,
   "metadata": {},
   "outputs": [
    {
     "name": "stderr",
     "output_type": "stream",
     "text": [
      "Using TensorFlow backend.\n"
     ]
    }
   ],
   "source": [
    "import numpy as np\n",
    "import matplotlib.pyplot as plt\n",
    "import math\n",
    "\n",
    "from keras.models import Sequential\n",
    "from keras.layers.core import Dense, Activation\n",
    "from keras.layers import LSTM\n",
    "from keras.optimizers import Adam"
   ]
  },
  {
   "cell_type": "code",
   "execution_count": 2,
   "metadata": {
    "collapsed": true
   },
   "outputs": [
    {
     "data": {
      "image/png": "[encoded data removed]",
      "text/plain": [
       "<Figure size 432x288 with 1 Axes>"
      ]
     },
     "metadata": {},
     "output_type": "display_data"
    }
   ],
   "source": [
    "# y=sin(x)\n",
    "x = np.linspace(0,8*math.pi,201)\n",
    "y = np.sin(x)\n",
    "plt.plot(x,y)\n",
    "plt.show()"
   ]
  },
  {
   "cell_type": "code",
   "execution_count": null,
   "metadata": {},
   "outputs": [],
   "source": []
  },
  {
   "cell_type": "code",
   "execution_count": 3,
   "metadata": {},
   "outputs": [],
   "source": [
    "windows = 50\n",
    "def data_split(x,y):\n",
    "    x_train = x[0:windows]\n",
    "    y_train = y[0:windows]\n",
    "    return x_train,y_train"
   ]
  },
  {
   "cell_type": "code",
   "execution_count": 4,
   "metadata": {},
   "outputs": [
    {
     "name": "stdout",
     "output_type": "stream",
     "text": [
      "(201,)\n",
      "(201,)\n"
     ]
    }
   ],
   "source": [
    "print(x.shape)\n",
    "print(y.shape)"
   ]
  },
  {
   "cell_type": "code",
   "execution_count": 61,
   "metadata": {
    "collapsed": true
   },
   "outputs": [
    {
     "name": "stdout",
     "output_type": "stream",
     "text": [
      "[[0.         0.        ]\n",
      " [0.03141593 0.03141076]\n",
      " [0.06283185 0.06279052]\n",
      " [0.09424778 0.09410831]\n",
      " [0.12566371 0.12533323]\n",
      " [0.15707963 0.15643447]\n",
      " [0.18849556 0.18738131]\n",
      " [0.21991149 0.21814324]\n",
      " [0.25132741 0.24868989]\n",
      " [0.28274334 0.27899111]\n",
      " [0.31415927 0.30901699]\n",
      " [0.34557519 0.33873792]\n",
      " [0.37699112 0.36812455]\n",
      " [0.40840704 0.39714789]\n",
      " [0.43982297 0.42577929]\n",
      " [0.4712389  0.4539905 ]\n",
      " [0.50265482 0.48175367]\n",
      " [0.53407075 0.50904142]\n",
      " [0.56548668 0.53582679]\n",
      " [0.5969026  0.56208338]]\n"
     ]
    }
   ],
   "source": [
    "'''\n",
    "windows = 50\n",
    "dic = np.zeros([windows,2])\n",
    "dic[:,0] = x[0:windows]\n",
    "dic[:,1] = y[0:windows]\n",
    "print(dic)\n",
    "'''"
   ]
  },
  {
   "cell_type": "code",
   "execution_count": 5,
   "metadata": {},
   "outputs": [
    {
     "name": "stdout",
     "output_type": "stream",
     "text": [
      "[ 0.00000000e+00  1.25333234e-01  2.48689887e-01  3.68124553e-01\n",
      "  4.81753674e-01  5.87785252e-01  6.84547106e-01  7.70513243e-01\n",
      "  8.44327926e-01  9.04827052e-01  9.51056516e-01  9.82287251e-01\n",
      "  9.98026728e-01  9.98026728e-01  9.82287251e-01  9.51056516e-01\n",
      "  9.04827052e-01  8.44327926e-01  7.70513243e-01  6.84547106e-01\n",
      "  5.87785252e-01  4.81753674e-01  3.68124553e-01  2.48689887e-01\n",
      "  1.25333234e-01 -3.21624530e-16 -1.25333234e-01 -2.48689887e-01\n",
      " -3.68124553e-01 -4.81753674e-01 -5.87785252e-01 -6.84547106e-01\n",
      " -7.70513243e-01 -8.44327926e-01 -9.04827052e-01 -9.51056516e-01\n",
      " -9.82287251e-01 -9.98026728e-01 -9.98026728e-01 -9.82287251e-01\n",
      " -9.51056516e-01 -9.04827052e-01 -8.44327926e-01 -7.70513243e-01\n",
      " -6.84547106e-01 -5.87785252e-01 -4.81753674e-01 -3.68124553e-01\n",
      " -2.48689887e-01 -1.25333234e-01]\n"
     ]
    }
   ],
   "source": [
    "dic = y[0:windows]\n",
    "print(dic)"
   ]
  },
  {
   "cell_type": "code",
   "execution_count": 6,
   "metadata": {},
   "outputs": [
    {
     "name": "stdout",
     "output_type": "stream",
     "text": [
      "[ 1.25333234e-01  2.48689887e-01  3.68124553e-01  4.81753674e-01\n",
      "  5.87785252e-01  6.84547106e-01  7.70513243e-01  8.44327926e-01\n",
      "  9.04827052e-01  9.51056516e-01  9.82287251e-01  9.98026728e-01\n",
      "  9.98026728e-01  9.82287251e-01  9.51056516e-01  9.04827052e-01\n",
      "  8.44327926e-01  7.70513243e-01  6.84547106e-01  5.87785252e-01\n",
      "  4.81753674e-01  3.68124553e-01  2.48689887e-01  1.25333234e-01\n",
      " -3.21624530e-16 -1.25333234e-01 -2.48689887e-01 -3.68124553e-01\n",
      " -4.81753674e-01 -5.87785252e-01 -6.84547106e-01 -7.70513243e-01\n",
      " -8.44327926e-01 -9.04827052e-01 -9.51056516e-01 -9.82287251e-01\n",
      " -9.98026728e-01 -9.98026728e-01 -9.82287251e-01 -9.51056516e-01\n",
      " -9.04827052e-01 -8.44327926e-01 -7.70513243e-01 -6.84547106e-01\n",
      " -5.87785252e-01 -4.81753674e-01 -3.68124553e-01 -2.48689887e-01\n",
      " -1.25333234e-01  3.00000000e+00]\n"
     ]
    }
   ],
   "source": [
    "def next_state(dic,plus):\n",
    "    dic = np.append(dic,plus)\n",
    "    dic = dic[1:windows+1]\n",
    "    return dic\n",
    "\n",
    "dic = next_state(dic,3)\n",
    "print(dic)"
   ]
  },
  {
   "cell_type": "code",
   "execution_count": null,
   "metadata": {},
   "outputs": [],
   "source": []
  },
  {
   "cell_type": "code",
   "execution_count": 15,
   "metadata": {},
   "outputs": [
    {
     "data": {
      "text/plain": [
       "(1, 1, 50)"
      ]
     },
     "execution_count": 15,
     "metadata": {},
     "output_type": "execute_result"
    }
   ],
   "source": [
    "dic = dic.reshape([1,1,50])\n",
    "dic.shape"
   ]
  },
  {
   "cell_type": "code",
   "execution_count": 11,
   "metadata": {},
   "outputs": [],
   "source": [
    "def build(unit):\n",
    "    model = Sequential()\n",
    "    model.add(LSTM(unit,input_shape=(1,unit)))\n",
    "    model.add(Dense(1))\n",
    "    model.add(Activation('linear'))\n",
    "    model.compile(loss='mean_squared_error', optimizer='Adam')\n",
    "    return model"
   ]
  },
  {
   "cell_type": "code",
   "execution_count": 12,
   "metadata": {},
   "outputs": [],
   "source": [
    "def next_state(x,y,plus):\n",
    "    dic = np.zeros(2,x.shape[0])\n",
    "    dic[0,:] = x"
   ]
  },
  {
   "cell_type": "code",
   "execution_count": 13,
   "metadata": {},
   "outputs": [
    {
     "name": "stdout",
     "output_type": "stream",
     "text": [
      "_________________________________________________________________\n",
      "Layer (type)                 Output Shape              Param #   \n",
      "=================================================================\n",
      "lstm_1 (LSTM)                (None, 50)                20200     \n",
      "_________________________________________________________________\n",
      "dense_1 (Dense)              (None, 1)                 51        \n",
      "_________________________________________________________________\n",
      "activation_1 (Activation)    (None, 1)                 0         \n",
      "=================================================================\n",
      "Total params: 20,251\n",
      "Trainable params: 20,251\n",
      "Non-trainable params: 0\n",
      "_________________________________________________________________\n"
     ]
    }
   ],
   "source": [
    "test = build(windows)\n",
    "test.summary()"
   ]
  },
  {
   "cell_type": "code",
   "execution_count": 25,
   "metadata": {
    "collapsed": true
   },
   "outputs": [
    {
     "name": "stdout",
     "output_type": "stream",
     "text": [
      "[[-3.178398]]\n",
      "Epoch 1/100\n",
      "1/1 [==============================] - 0s 5ms/step - loss: 0.0318\n",
      "Epoch 2/100\n",
      "1/1 [==============================] - 0s 6ms/step - loss: 0.0276\n",
      "Epoch 3/100\n",
      "1/1 [==============================] - 0s 9ms/step - loss: 0.0233\n",
      "Epoch 4/100\n",
      "1/1 [==============================] - 0s 12ms/step - loss: 0.0192\n",
      "Epoch 5/100\n",
      "1/1 [==============================] - 0s 15ms/step - loss: 0.0154\n",
      "Epoch 6/100\n",
      "1/1 [==============================] - 0s 6ms/step - loss: 0.0120\n",
      "Epoch 7/100\n",
      "1/1 [==============================] - 0s 16ms/step - loss: 0.0090\n",
      "Epoch 8/100\n",
      "1/1 [==============================] - 0s 11ms/step - loss: 0.0064\n",
      "Epoch 9/100\n",
      "1/1 [==============================] - 0s 9ms/step - loss: 0.0044\n",
      "Epoch 10/100\n",
      "1/1 [==============================] - 0s 13ms/step - loss: 0.0027\n",
      "Epoch 11/100\n",
      "1/1 [==============================] - 0s 12ms/step - loss: 0.0015\n",
      "Epoch 12/100\n",
      "1/1 [==============================] - 0s 12ms/step - loss: 7.3128e-04\n",
      "Epoch 13/100\n",
      "1/1 [==============================] - 0s 20ms/step - loss: 2.4325e-04\n",
      "Epoch 14/100\n",
      "1/1 [==============================] - 0s 15ms/step - loss: 2.5507e-05\n",
      "Epoch 15/100\n",
      "1/1 [==============================] - 0s 9ms/step - loss: 2.0668e-05\n",
      "Epoch 16/100\n",
      "1/1 [==============================] - 0s 22ms/step - loss: 1.7319e-04\n",
      "Epoch 17/100\n",
      "1/1 [==============================] - 0s 16ms/step - loss: 4.3152e-04\n",
      "Epoch 18/100\n",
      "1/1 [==============================] - 0s 20ms/step - loss: 7.4978e-04\n",
      "Epoch 19/100\n",
      "1/1 [==============================] - 0s 22ms/step - loss: 0.0011\n",
      "Epoch 20/100\n",
      "1/1 [==============================] - 0s 7ms/step - loss: 0.0014\n",
      "Epoch 21/100\n",
      "1/1 [==============================] - 0s 32ms/step - loss: 0.0017\n",
      "Epoch 22/100\n",
      "1/1 [==============================] - 0s 10ms/step - loss: 0.0019\n",
      "Epoch 23/100\n",
      "1/1 [==============================] - 0s 20ms/step - loss: 0.0021\n",
      "Epoch 24/100\n",
      "1/1 [==============================] - 0s 10ms/step - loss: 0.0022\n",
      "Epoch 25/100\n",
      "1/1 [==============================] - 0s 10ms/step - loss: 0.0023\n",
      "Epoch 26/100\n",
      "1/1 [==============================] - 0s 8ms/step - loss: 0.0022\n",
      "Epoch 27/100\n",
      "1/1 [==============================] - 0s 19ms/step - loss: 0.0021\n",
      "Epoch 28/100\n",
      "1/1 [==============================] - 0s 21ms/step - loss: 0.0020\n",
      "Epoch 29/100\n",
      "1/1 [==============================] - 0s 10ms/step - loss: 0.0018\n",
      "Epoch 30/100\n",
      "1/1 [==============================] - 0s 20ms/step - loss: 0.0016\n",
      "Epoch 31/100\n",
      "1/1 [==============================] - 0s 10ms/step - loss: 0.0014\n",
      "Epoch 32/100\n",
      "1/1 [==============================] - 0s 11ms/step - loss: 0.0012\n",
      "Epoch 33/100\n",
      "1/1 [==============================] - 0s 27ms/step - loss: 9.8666e-04\n",
      "Epoch 34/100\n",
      "1/1 [==============================] - 0s 6ms/step - loss: 7.8557e-04\n",
      "Epoch 35/100\n",
      "1/1 [==============================] - 0s 10ms/step - loss: 6.0295e-04\n",
      "Epoch 36/100\n",
      "1/1 [==============================] - 0s 16ms/step - loss: 4.4299e-04\n",
      "Epoch 37/100\n",
      "1/1 [==============================] - 0s 5ms/step - loss: 3.0840e-04\n",
      "Epoch 38/100\n",
      "1/1 [==============================] - 0s 20ms/step - loss: 1.9997e-04\n",
      "Epoch 39/100\n",
      "1/1 [==============================] - 0s 6ms/step - loss: 1.1735e-04\n",
      "Epoch 40/100\n",
      "1/1 [==============================] - 0s 5ms/step - loss: 5.8868e-05\n",
      "Epoch 41/100\n",
      "1/1 [==============================] - 0s 18ms/step - loss: 2.2049e-05\n",
      "Epoch 42/100\n",
      "1/1 [==============================] - 0s 24ms/step - loss: 3.7185e-06\n",
      "Epoch 43/100\n",
      "1/1 [==============================] - 0s 11ms/step - loss: 3.6818e-07\n",
      "Epoch 44/100\n",
      "1/1 [==============================] - 0s 18ms/step - loss: 8.3596e-06\n",
      "Epoch 45/100\n",
      "1/1 [==============================] - 0s 19ms/step - loss: 2.4153e-05\n",
      "Epoch 46/100\n",
      "1/1 [==============================] - 0s 6ms/step - loss: 4.4454e-05\n",
      "Epoch 47/100\n",
      "1/1 [==============================] - 0s 13ms/step - loss: 6.6393e-05\n",
      "Epoch 48/100\n",
      "1/1 [==============================] - 0s 10ms/step - loss: 8.7593e-05\n",
      "Epoch 49/100\n",
      "1/1 [==============================] - 0s 18ms/step - loss: 1.0620e-04\n",
      "Epoch 50/100\n",
      "1/1 [==============================] - 0s 14ms/step - loss: 1.2088e-04\n",
      "Epoch 51/100\n",
      "1/1 [==============================] - 0s 10ms/step - loss: 1.3092e-04\n",
      "Epoch 52/100\n",
      "1/1 [==============================] - 0s 20ms/step - loss: 1.3596e-04\n",
      "Epoch 53/100\n",
      "1/1 [==============================] - 0s 21ms/step - loss: 1.3614e-04\n",
      "Epoch 54/100\n",
      "1/1 [==============================] - 0s 7ms/step - loss: 1.3188e-04\n",
      "Epoch 55/100\n",
      "1/1 [==============================] - 0s 8ms/step - loss: 1.2385e-04\n",
      "Epoch 56/100\n",
      "1/1 [==============================] - 0s 7ms/step - loss: 1.1287e-04\n",
      "Epoch 57/100\n",
      "1/1 [==============================] - 0s 14ms/step - loss: 9.9828e-05\n",
      "Epoch 58/100\n",
      "1/1 [==============================] - 0s 9ms/step - loss: 8.5627e-05\n",
      "Epoch 59/100\n",
      "1/1 [==============================] - 0s 9ms/step - loss: 7.1105e-05\n",
      "Epoch 60/100\n",
      "1/1 [==============================] - 0s 24ms/step - loss: 5.6967e-05\n",
      "Epoch 61/100\n",
      "1/1 [==============================] - 0s 6ms/step - loss: 4.3849e-05\n",
      "Epoch 62/100\n",
      "1/1 [==============================] - 0s 22ms/step - loss: 3.2171e-05\n",
      "Epoch 63/100\n",
      "1/1 [==============================] - 0s 6ms/step - loss: 2.2258e-05\n",
      "Epoch 64/100\n",
      "1/1 [==============================] - 0s 6ms/step - loss: 1.4253e-05\n",
      "Epoch 65/100\n",
      "1/1 [==============================] - 0s 6ms/step - loss: 8.1732e-06\n",
      "Epoch 66/100\n",
      "1/1 [==============================] - 0s 16ms/step - loss: 3.9301e-06\n",
      "Epoch 67/100\n",
      "1/1 [==============================] - 0s 16ms/step - loss: 1.3349e-06\n",
      "Epoch 68/100\n",
      "1/1 [==============================] - 0s 6ms/step - loss: 1.5103e-07\n",
      "Epoch 69/100\n",
      "1/1 [==============================] - 0s 19ms/step - loss: 9.6806e-08\n",
      "Epoch 70/100\n",
      "1/1 [==============================] - 0s 16ms/step - loss: 8.8107e-07\n",
      "Epoch 71/100\n",
      "1/1 [==============================] - 0s 9ms/step - loss: 2.2148e-06\n",
      "Epoch 72/100\n",
      "1/1 [==============================] - 0s 9ms/step - loss: 3.8352e-06\n",
      "Epoch 73/100\n",
      "1/1 [==============================] - 0s 16ms/step - loss: 5.5207e-06\n",
      "Epoch 74/100\n",
      "1/1 [==============================] - 0s 8ms/step - loss: 7.0821e-06\n",
      "Epoch 75/100\n",
      "1/1 [==============================] - 0s 6ms/step - loss: 8.3831e-06\n",
      "Epoch 76/100\n",
      "1/1 [==============================] - 0s 16ms/step - loss: 9.3336e-06\n",
      "Epoch 77/100\n",
      "1/1 [==============================] - 0s 12ms/step - loss: 9.8939e-06\n",
      "Epoch 78/100\n",
      "1/1 [==============================] - 0s 15ms/step - loss: 1.0046e-05\n",
      "Epoch 79/100\n",
      "1/1 [==============================] - 0s 9ms/step - loss: 9.8265e-06\n",
      "Epoch 80/100\n",
      "1/1 [==============================] - 0s 17ms/step - loss: 9.2783e-06\n",
      "Epoch 81/100\n",
      "1/1 [==============================] - 0s 13ms/step - loss: 8.4758e-06\n",
      "Epoch 82/100\n",
      "1/1 [==============================] - 0s 9ms/step - loss: 7.4823e-06\n",
      "Epoch 83/100\n",
      "1/1 [==============================] - 0s 26ms/step - loss: 6.3845e-06\n",
      "Epoch 84/100\n",
      "1/1 [==============================] - 0s 7ms/step - loss: 5.2518e-06\n",
      "Epoch 85/100\n",
      "1/1 [==============================] - 0s 8ms/step - loss: 4.1505e-06\n",
      "Epoch 86/100\n",
      "1/1 [==============================] - 0s 13ms/step - loss: 3.1338e-06\n",
      "Epoch 87/100\n",
      "1/1 [==============================] - 0s 16ms/step - loss: 2.2361e-06\n",
      "Epoch 88/100\n",
      "1/1 [==============================] - 0s 11ms/step - loss: 1.4866e-06\n",
      "Epoch 89/100\n",
      "1/1 [==============================] - 0s 13ms/step - loss: 8.9635e-07\n",
      "Epoch 90/100\n",
      "1/1 [==============================] - 0s 20ms/step - loss: 4.6626e-07\n",
      "Epoch 91/100\n",
      "1/1 [==============================] - 0s 8ms/step - loss: 1.8622e-07\n",
      "Epoch 92/100\n",
      "1/1 [==============================] - 0s 16ms/step - loss: 3.8595e-08\n",
      "Epoch 93/100\n",
      "1/1 [==============================] - 0s 9ms/step - loss: 3.8222e-10\n",
      "Epoch 94/100\n",
      "1/1 [==============================] - 0s 16ms/step - loss: 4.5941e-08\n",
      "Epoch 95/100\n",
      "1/1 [==============================] - 0s 23ms/step - loss: 1.4900e-07\n",
      "Epoch 96/100\n",
      "1/1 [==============================] - 0s 5ms/step - loss: 2.8547e-07\n",
      "Epoch 97/100\n",
      "1/1 [==============================] - 0s 12ms/step - loss: 4.3144e-07\n",
      "Epoch 98/100\n",
      "1/1 [==============================] - 0s 10ms/step - loss: 5.7230e-07\n",
      "Epoch 99/100\n",
      "1/1 [==============================] - 0s 16ms/step - loss: 6.8879e-07\n",
      "Epoch 100/100\n",
      "1/1 [==============================] - 0s 5ms/step - loss: 7.7482e-07\n"
     ]
    },
    {
     "data": {
      "text/plain": [
       "<keras.callbacks.History at 0x7f2f205863c8>"
      ]
     },
     "execution_count": 25,
     "metadata": {},
     "output_type": "execute_result"
    }
   ],
   "source": [
    "print(test.predict(dic))\n",
    "y = [[-3]]\n",
    "test.fit(dic,y,epochs=100)"
   ]
  },
  {
   "cell_type": "code",
   "execution_count": 26,
   "metadata": {},
   "outputs": [
    {
     "data": {
      "text/plain": [
       "array([[-3.0009098]], dtype=float32)"
      ]
     },
     "execution_count": 26,
     "metadata": {},
     "output_type": "execute_result"
    }
   ],
   "source": [
    "test.predict(dic)"
   ]
  },
  {
   "cell_type": "code",
   "execution_count": null,
   "metadata": {},
   "outputs": [],
   "source": []
  }
 ],
 "metadata": {
  "kernelspec": {
   "display_name": "Python 3",
   "language": "python",
   "name": "python3"
  },
  "language_info": {
   "codemirror_mode": {
    "name": "ipython",
    "version": 3
   },
   "file_extension": ".py",
   "mimetype": "text/x-python",
   "name": "python",
   "nbconvert_exporter": "python",
   "pygments_lexer": "ipython3",
   "version": "3.5.2"
  }
 },
 "nbformat": 4,
 "nbformat_minor": 2
}
